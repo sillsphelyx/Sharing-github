{
 "cells": [
  {
   "cell_type": "markdown",
   "metadata": {},
   "source": [
    "# Lists"
   ]
  },
  {
   "cell_type": "code",
   "execution_count": 17,
   "metadata": {
    "collapsed": true
   },
   "outputs": [],
   "source": [
    "# Lists are mutable 'you can add objects to a list'\n",
    "k=[2,4, 'a','b','kelvin']"
   ]
  },
  {
   "cell_type": "code",
   "execution_count": 24,
   "metadata": {
    "collapsed": false
   },
   "outputs": [
    {
     "name": "stdout",
     "output_type": "stream",
     "text": [
      "[2, 4, 'a']\n",
      "['b', 'kelvin']\n",
      "kelvin\n",
      "[4, 'a', 'b', 'kelvin']\n"
     ]
    }
   ],
   "source": [
    "# slicing lists\n",
    "# the last number/element is not included\n",
    "print(k[:3])  #first three elements\n",
    "print(k[3:5])  # fourth and fifth element\n",
    "print(k[-1])  #last element\n",
    "print(k[-4:]) # this includes the last element of the list"
   ]
  },
  {
   "cell_type": "code",
   "execution_count": 10,
   "metadata": {
    "collapsed": false
   },
   "outputs": [
    {
     "name": "stdout",
     "output_type": "stream",
     "text": [
      "[2, 4, 'a', 'b', 'kelvin', 'Jeff']\n"
     ]
    }
   ],
   "source": [
    "# adding to a list \"append function\"\n",
    "k.append('Jeff')\n",
    "print(k)"
   ]
  },
  {
   "cell_type": "code",
   "execution_count": 11,
   "metadata": {
    "collapsed": false
   },
   "outputs": [
    {
     "name": "stdout",
     "output_type": "stream",
     "text": [
      "2\n",
      "4\n",
      "a\n",
      "b\n",
      "kelvin\n",
      "Jeff\n"
     ]
    }
   ],
   "source": [
    "# Looping over a list\n",
    "for item in k:\n",
    "    print(item)"
   ]
  },
  {
   "cell_type": "markdown",
   "metadata": {},
   "source": [
    "# Tuple"
   ]
  },
  {
   "cell_type": "code",
   "execution_count": 15,
   "metadata": {
    "collapsed": true
   },
   "outputs": [],
   "source": [
    "# are imutable\n",
    "e=('t',6,9,'y')"
   ]
  },
  {
   "cell_type": "code",
   "execution_count": 47,
   "metadata": {
    "collapsed": false
   },
   "outputs": [
    {
     "data": {
      "text/plain": [
       "'t'"
      ]
     },
     "execution_count": 47,
     "metadata": {},
     "output_type": "execute_result"
    }
   ],
   "source": [
    "# unpacking from the list to particular assignments.\n",
    "ga,ai,at,sd=e\n"
   ]
  },
  {
   "cell_type": "code",
   "execution_count": 16,
   "metadata": {
    "collapsed": false
   },
   "outputs": [
    {
     "name": "stdout",
     "output_type": "stream",
     "text": [
      "t\n",
      "6\n",
      "9\n",
      "y\n"
     ]
    }
   ],
   "source": [
    "#looping over a tuple\n",
    "for item in e:\n",
    "    print(item)"
   ]
  },
  {
   "cell_type": "markdown",
   "metadata": {},
   "source": [
    "# Dictionary"
   ]
  },
  {
   "cell_type": "code",
   "execution_count": 53,
   "metadata": {
    "collapsed": false
   },
   "outputs": [],
   "source": [
    "# it is mutable\n",
    "# has key and values defined by usind curly brackets\n",
    "#works like a collection of sets\n",
    "f={'w':\"a,d,e,f\", 4:\"a,d,t,e\", 'n':\"h,e,w,e,d\", 'y':\"banana, orange, sweets, love\"}\n",
    "# unpacking only for the keys\n",
    "au,yo,kl,lk=f\n"
   ]
  },
  {
   "cell_type": "code",
   "execution_count": 52,
   "metadata": {
    "collapsed": false
   },
   "outputs": [
    {
     "data": {
      "text/plain": [
       "'banana, orange, sweets, love'"
      ]
     },
     "execution_count": 52,
     "metadata": {},
     "output_type": "execute_result"
    }
   ],
   "source": [
    "# unpacking to assign variable to the values\n",
    "au,yo,kl,lk=f.values()\n",
    "au"
   ]
  },
  {
   "cell_type": "code",
   "execution_count": null,
   "metadata": {
    "collapsed": true
   },
   "outputs": [],
   "source": []
  },
  {
   "cell_type": "code",
   "execution_count": 42,
   "metadata": {
    "collapsed": false
   },
   "outputs": [
    {
     "name": "stdout",
     "output_type": "stream",
     "text": [
      "y\n",
      "n\n",
      "4\n",
      "w\n"
     ]
    }
   ],
   "source": [
    "#looping over keys\n",
    "for name in f: \n",
    "    print(name)"
   ]
  },
  {
   "cell_type": "code",
   "execution_count": 44,
   "metadata": {
    "collapsed": false
   },
   "outputs": [
    {
     "name": "stdout",
     "output_type": "stream",
     "text": [
      "banana, orange, sweets, love\n",
      "h,e,w,e,d\n",
      "a,d,t,e\n",
      "a,d,e,f\n"
     ]
    }
   ],
   "source": [
    "# Looping over the values in the dictitonary\n",
    "for tuff in f.values():\n",
    "    print(tuff)"
   ]
  },
  {
   "cell_type": "code",
   "execution_count": 45,
   "metadata": {
    "collapsed": false
   },
   "outputs": [
    {
     "name": "stdout",
     "output_type": "stream",
     "text": [
      "y\n",
      "banana, orange, sweets, love\n",
      "n\n",
      "h,e,w,e,d\n",
      "4\n",
      "a,d,t,e\n",
      "w\n",
      "a,d,e,f\n"
     ]
    }
   ],
   "source": [
    "# Looping over both the the keys and the values.\n",
    "#items(both key and object)\n",
    "for best, good in f.items():\n",
    "    print(best)\n",
    "    print(good)"
   ]
  },
  {
   "cell_type": "code",
   "execution_count": 67,
   "metadata": {
    "collapsed": true
   },
   "outputs": [],
   "source": [
    "sales={'items':'colgate,water', 'price':'10.5,5.2','number':'4,5'}"
   ]
  },
  {
   "cell_type": "markdown",
   "metadata": {},
   "source": [
    "# Strings"
   ]
  },
  {
   "cell_type": "code",
   "execution_count": 58,
   "metadata": {
    "collapsed": false
   },
   "outputs": [
    {
     "data": {
      "text/plain": [
       "'another'"
      ]
     },
     "execution_count": 58,
     "metadata": {},
     "output_type": "execute_result"
    }
   ],
   "source": [
    "#Index manipulation\n",
    "f='today is another day'\n",
    "f[:5]\n",
    "f[9:16]"
   ]
  },
  {
   "cell_type": "code",
   "execution_count": 61,
   "metadata": {
    "collapsed": false
   },
   "outputs": [
    {
     "data": {
      "text/plain": [
       "('kelvinmwale', 'kelvinkelvinkelvinkelvin')"
      ]
     },
     "execution_count": 61,
     "metadata": {},
     "output_type": "execute_result"
    }
   ],
   "source": [
    "# Concatinating strings\n",
    "a='kelvin'\n",
    "b='mwale'\n",
    "c=a+b\n",
    "#repeatition \n",
    "d=a*4\n",
    "print(c,d)\n",
    "\n"
   ]
  },
  {
   "cell_type": "code",
   "execution_count": 65,
   "metadata": {
    "collapsed": false
   },
   "outputs": [
    {
     "data": {
      "text/plain": [
       "'bread'"
      ]
     },
     "execution_count": 65,
     "metadata": {},
     "output_type": "execute_result"
    }
   ],
   "source": [
    "#splitin\n",
    "A='bread,milk,tea'\n",
    "A.split(\",\")\n",
    "#Unpacking\n",
    "j,k,l=A.split(\",\")"
   ]
  },
  {
   "cell_type": "code",
   "execution_count": 66,
   "metadata": {
    "collapsed": false
   },
   "outputs": [
    {
     "name": "stdout",
     "output_type": "stream",
     "text": [
      "Hello, John!\n"
     ]
    }
   ],
   "source": [
    "name = \"John\"\n",
    "print(\"Hello, %s!\" % name)"
   ]
  },
  {
   "cell_type": "code",
   "execution_count": 68,
   "metadata": {
    "collapsed": false
   },
   "outputs": [
    {
     "name": "stdout",
     "output_type": "stream",
     "text": [
      "Kelvin bought 4 items at a price of 3.14 each, for a total of 12.56\n"
     ]
    }
   ],
   "source": [
    "#using the format function\n",
    "sales_record={'price':3.14,'num_items':4,'person':'Kelvin'}\n",
    "sales_statement='{} bought {} items at a price of {} each, for a total of {}' # The order from the statement you want to print out should be maintained\n",
    "print(sales_statement.format(sales_record ['person'],sales_record ['num_items'],sales_record ['price'],sales_record ['num_items']*sales_record ['price']))"
   ]
  },
  {
   "cell_type": "code",
   "execution_count": null,
   "metadata": {
    "collapsed": true
   },
   "outputs": [],
   "source": []
  }
 ],
 "metadata": {
  "anaconda-cloud": {},
  "kernelspec": {
   "display_name": "Python [conda root]",
   "language": "python",
   "name": "conda-root-py"
  },
  "language_info": {
   "codemirror_mode": {
    "name": "ipython",
    "version": 3
   },
   "file_extension": ".py",
   "mimetype": "text/x-python",
   "name": "python",
   "nbconvert_exporter": "python",
   "pygments_lexer": "ipython3",
   "version": "3.5.2"
  }
 },
 "nbformat": 4,
 "nbformat_minor": 1
}
